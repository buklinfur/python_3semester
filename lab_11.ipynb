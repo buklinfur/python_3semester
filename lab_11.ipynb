{
  "nbformat": 4,
  "nbformat_minor": 0,
  "metadata": {
    "colab": {
      "provenance": [],
      "authorship_tag": "ABX9TyPEJFCozrFkY7HTKqWycKfs"
    },
    "kernelspec": {
      "name": "python3",
      "display_name": "Python 3"
    },
    "language_info": {
      "name": "python"
    }
  },
  "cells": [
    {
      "cell_type": "code",
      "execution_count": 2,
      "metadata": {
        "id": "2wJtkxOaoHzK"
      },
      "outputs": [],
      "source": [
        "import numpy as np\n",
        "import matplotlib.pyplot as plt\n",
        "\n",
        "class Neuron:\n",
        "    def __init__(self, size):\n",
        "        self._weights = np.random.rand(size)\n",
        "        self._previous_changes = [0, 0]\n",
        "        self._input = 0\n",
        "        self._output = 0\n",
        "\n",
        "    def forward(self, x):\n",
        "        self._input = x\n",
        "        linear_input = np.dot(x, self._weights)\n",
        "        self._output = self._sigmoid(linear_input)\n",
        "        return self._output\n",
        "\n",
        "    def backward(self, x, loss, epsilon=0.5, alpha=0.2):\n",
        "        sigmoid_der = self._output * (1 - self._output)\n",
        "        delta = loss * sigmoid_der\n",
        "        losses = []\n",
        "        for i in range(len(self._weights)):\n",
        "            grad = self._input[i] * delta\n",
        "            delta_w = epsilon * grad + alpha * self._previous_changes[i]\n",
        "            self._previous_changes[i] = delta_w\n",
        "            self._weights[i] += delta_w[0]\n",
        "            losses.append(self._weights[i] * delta)\n",
        "        return losses\n",
        "\n",
        "    @staticmethod\n",
        "    def _sigmoid(x):\n",
        "        return 1 / (1 + np.exp(-x))"
      ]
    },
    {
      "cell_type": "code",
      "source": [
        "class Model:\n",
        "    def __init__(self):\n",
        "        self.hidden_1 = Neuron(2)\n",
        "        self.hidden_2 = Neuron(2)\n",
        "        self.out = Neuron(2)\n",
        "\n",
        "    def forward(self, x):\n",
        "        h1_out = self.hidden_1.forward(x)\n",
        "        h2_out = self.hidden_2.forward(x)\n",
        "        output = self.out.forward([h1_out, h2_out])\n",
        "        return output\n",
        "\n",
        "    def backward(self, x, loss):\n",
        "        losses = self.out.backward(x, loss)\n",
        "        self.hidden_1.backward(x, losses[0])\n",
        "        self.hidden_2.backward(x, losses[1])\n",
        "\n",
        "    def train(self, data, labels, epochs):\n",
        "        for epoch in range(epochs):\n",
        "            for itr in range(len(data)):\n",
        "                y = self.forward(data[itr])\n",
        "                self.backward(data[itr], labels[itr] - y)\n",
        "\n",
        "    def check_error(self, data, labels): # compute the mean squared error\n",
        "        y = []\n",
        "        for x in data:\n",
        "            y.append(self.forward(x))\n",
        "        print('Error:', self._err(labels, y, 4))\n",
        "\n",
        "    @staticmethod\n",
        "    def _err(ideal, actual, count):\n",
        "        res = 0\n",
        "        for i in range(count):\n",
        "            res += (ideal[i][0] - actual[i]) ** 2\n",
        "        return res / count"
      ],
      "metadata": {
        "id": "q1tPLDfyoaXq"
      },
      "execution_count": 8,
      "outputs": []
    },
    {
      "cell_type": "code",
      "source": [
        "model = Model()\n",
        "data = [[0, 0], [0, 1], [1, 0], [1, 1]]\n",
        "labels = [[0], [1], [1], [0]]\n",
        "model.train(data, labels, 50000)\n",
        "model.check_error(data, labels)"
      ],
      "metadata": {
        "colab": {
          "base_uri": "https://localhost:8080/"
        },
        "id": "YPcmeAA4ofzx",
        "outputId": "6801d6f7-ed42-47aa-8a9f-ea6fde836890"
      },
      "execution_count": 4,
      "outputs": [
        {
          "output_type": "stream",
          "name": "stdout",
          "text": [
            "Error: 0.0012559450823868066\n"
          ]
        }
      ]
    }
  ]
}