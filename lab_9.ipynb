{
  "cells": [
    {
      "cell_type": "code",
      "execution_count": 4,
      "outputs": [],
      "source": [
        "import numpy as np\n",
        "from matplotlib import pyplot as plt\n",
        "from sklearn.model_selection import train_test_split\n",
        "from sklearn.metrics import accuracy_score\n",
        "import pandas as pd\n",
        "\n",
        "df_main = pd.read_csv('titanic_prepared.csv')\n",
        "\n",
        "X = df_main.drop(['label'], axis=1)\n",
        "y = df_main['label']\n",
        "\n",
        "X_train, X_test, y_train, y_test = train_test_split(X, y, test_size=0.1, random_state=42)"
      ],
      "metadata": {
        "ExecuteTime": {
          "end_time": "2023-12-14T15:39:09.789258900Z",
          "start_time": "2023-12-14T15:39:09.768773200Z"
        },
        "id": "initial_id"
      },
      "id": "initial_id"
    },
    {
      "cell_type": "code",
      "execution_count": 5,
      "outputs": [
        {
          "output_type": "stream",
          "name": "stdout",
          "text": [
            "Accuracy: 0.8704819277108434\n"
          ]
        },
        {
          "output_type": "display_data",
          "data": {
            "text/plain": [
              "<Figure size 640x480 with 1 Axes>"
            ],
            "image/png": "[encoded data removed]"
          },
          "metadata": {}
        }
      ],
      "source": [
        "from sklearn.tree import DecisionTreeClassifier\n",
        "\n",
        "model = DecisionTreeClassifier(max_depth=3, criterion='entropy')\n",
        "model.fit(X_train, y_train)\n",
        "\n",
        "y_pred = model.predict(X_test)\n",
        "accuracy = accuracy_score(y_test, y_pred)\n",
        "print('Accuracy:', accuracy)\n",
        "\n",
        "importances = model.feature_importances_\n",
        "features = X_train.columns\n",
        "\n",
        "indices = np.argsort(importances)\n",
        "\n",
        "plt.title('Важность признаков')\n",
        "plt.barh(range(len(indices)), importances[indices], color='b', align='center')\n",
        "plt.yticks(range(len(indices)), features[indices])\n",
        "plt.xlabel('Относительная важность')\n",
        "plt.show()"
      ],
      "metadata": {
        "ExecuteTime": {
          "end_time": "2023-12-03T13:45:14.965006Z",
          "start_time": "2023-12-03T13:45:14.758835Z"
        },
        "colab": {
          "base_uri": "https://localhost:8080/",
          "height": 490
        },
        "id": "f7b82957f9d432fa",
        "outputId": "3367e1db-4273-47b3-b86e-d4743b47743e"
      },
      "id": "f7b82957f9d432fa"
    },
    {
      "cell_type": "code",
      "execution_count": 6,
      "outputs": [
        {
          "output_type": "stream",
          "name": "stdout",
          "text": [
            "Accuracy: 0.8704819277108434\n"
          ]
        }
      ],
      "source": [
        "from sklearn.tree import DecisionTreeClassifier\n",
        "\n",
        "df_main = pd.read_csv('titanic_prepared.csv')\n",
        "\n",
        "X = df_main[['morning', 'evening']]\n",
        "y = df_main['label']\n",
        "\n",
        "X_train, X_test, y_train, y_test = train_test_split(X, y, test_size=0.1, random_state=42)\n",
        "\n",
        "model = DecisionTreeClassifier(max_depth=3, criterion='entropy')\n",
        "model.fit(X_train, y_train)\n",
        "\n",
        "y_pred = model.predict(X_test)\n",
        "accuracy = accuracy_score(y_test, y_pred)\n",
        "print('Accuracy:', accuracy)"
      ],
      "metadata": {
        "ExecuteTime": {
          "end_time": "2023-12-14T15:28:20.388122Z",
          "start_time": "2023-12-14T15:28:20.313057500Z"
        },
        "colab": {
          "base_uri": "https://localhost:8080/"
        },
        "id": "973b7b444e6f1621",
        "outputId": "57a932e0-cbec-4005-a58b-9ab4291ea1cd"
      },
      "id": "973b7b444e6f1621"
    },
    {
      "cell_type": "code",
      "execution_count": null,
      "outputs": [
        {
          "output_type": "stream",
          "name": "stdout",
          "text": [
            "Accuracy: 0.8704819277108434\n"
          ]
        }
      ],
      "source": [
        "from xgboost import XGBClassifier\n",
        "from sklearn.metrics import accuracy_score\n",
        "\n",
        "model = XGBClassifier(max_depth=3, learning_rate=0.1, n_estimators=100, verbosity=1, n_jobs=4)\n",
        "model.fit(X_train, y_train)\n",
        "\n",
        "y_pred = model.predict(X_test)\n",
        "accuracy = accuracy_score(y_test, y_pred)\n",
        "print('Accuracy:', accuracy)"
      ],
      "metadata": {
        "ExecuteTime": {
          "end_time": "2023-12-03T13:44:47.479633400Z",
          "start_time": "2023-12-03T13:44:47.369810400Z"
        },
        "colab": {
          "base_uri": "https://localhost:8080/"
        },
        "id": "e916be10b63e3527",
        "outputId": "6d67f3c1-1a3c-4ace-ccd6-c02dcf3811e7"
      },
      "id": "e916be10b63e3527"
    },
    {
      "cell_type": "code",
      "execution_count": null,
      "outputs": [
        {
          "output_type": "stream",
          "name": "stdout",
          "text": [
            "Accuracy: 0.8704819277108434\n"
          ]
        }
      ],
      "source": [
        "from sklearn.linear_model import LogisticRegression\n",
        "\n",
        "model = LogisticRegression(C=0.1, solver='lbfgs', max_iter=175)\n",
        "model.fit(X_train, y_train)\n",
        "\n",
        "y_pred = model.predict(X_test)\n",
        "accuracy = accuracy_score(y_test, y_pred)\n",
        "print('Accuracy:', accuracy)"
      ],
      "metadata": {
        "ExecuteTime": {
          "end_time": "2023-12-03T13:45:18.328539400Z",
          "start_time": "2023-12-03T13:45:18.233702200Z"
        },
        "colab": {
          "base_uri": "https://localhost:8080/"
        },
        "id": "23e873eb2296b673",
        "outputId": "6f5d3ec5-177a-412d-cd8c-44f7eabcf519"
      },
      "id": "23e873eb2296b673"
    },
    {
      "cell_type": "code",
      "execution_count": 30,
      "outputs": [],
      "source": [
        "from collections import Counter\n",
        "from sklearn.tree import DecisionTreeClassifier\n",
        "\n",
        "\n",
        "class MyRandomForest:\n",
        "    def __init__(self, n_trees=10, max_depth=10, min_samples_split=2, max_features=None):\n",
        "        self.n_trees = n_trees\n",
        "        self.max_depth = max_depth\n",
        "        self.min_samples_split = min_samples_split\n",
        "        self.max_features = max_features\n",
        "        self.trees = []\n",
        "        self.feature_indices = []\n",
        "\n",
        "    def fit(self, X, y):\n",
        "        self.trees = []\n",
        "        self.feature_indices = []\n",
        "        n_features = X.shape[1]\n",
        "\n",
        "        if self.max_features is None:\n",
        "            self.max_features = int(np.sqrt(n_features))\n",
        "\n",
        "        for _ in range(self.n_trees):\n",
        "            X_sample, y_sample, feature_idx = self._bootstrap_samples_and_features(X, y, n_features)\n",
        "            tree = DecisionTreeClassifier(max_depth=self.max_depth, min_samples_split=self.min_samples_split, criterion='entropy')\n",
        "            tree.fit(X_sample[:, feature_idx], y_sample)\n",
        "            self.trees.append(tree)\n",
        "            self.feature_indices.append(feature_idx)\n",
        "\n",
        "    def _bootstrap_samples_and_features(self, X, y, n_features):\n",
        "        n_samples = X.shape[0]\n",
        "        idxs = np.random.choice(n_samples, n_samples, replace=True)\n",
        "\n",
        "        # Randomly select subset of features (columns)\n",
        "        feature_idx = np.random.choice(n_features, self.max_features, replace=False)\n",
        "\n",
        "        X_sample = X[idxs]\n",
        "        y_sample = y[idxs]\n",
        "        return X_sample, y_sample, feature_idx\n",
        "\n",
        "    def _most_common_label(self, y):\n",
        "        counter = Counter(y)\n",
        "        most_common = counter.most_common(1)[0][0]\n",
        "        return most_common\n",
        "\n",
        "    def predict(self, X):\n",
        "        predictions = []\n",
        "        for i, tree in enumerate(self.trees):\n",
        "            feature_idx = self.feature_indices[i]\n",
        "            tree_preds = tree.predict(X[:, feature_idx])\n",
        "            predictions.append(tree_preds)\n",
        "\n",
        "        tree_preds = np.swapaxes(predictions, 0, 1)\n",
        "        predictions = np.array([self._most_common_label(pred) for pred in tree_preds])\n",
        "        return predictions"
      ],
      "metadata": {
        "ExecuteTime": {
          "end_time": "2023-12-14T15:35:09.239216900Z",
          "start_time": "2023-12-14T15:35:09.224471700Z"
        },
        "id": "6567f6eafd0cc495"
      },
      "id": "6567f6eafd0cc495"
    },
    {
      "cell_type": "code",
      "execution_count": 31,
      "outputs": [
        {
          "output_type": "stream",
          "name": "stdout",
          "text": [
            "Decision tree accuracy: 0.8111111111111111\n",
            "Random forest accuracy: 0.9166666666666666\n"
          ]
        }
      ],
      "source": [
        "from sklearn.datasets import load_digits\n",
        "\n",
        "data = load_digits()\n",
        "X = data.data\n",
        "y = data.target\n",
        "\n",
        "X_train, X_test, y_train, y_test = train_test_split(X, y, test_size=0.2, random_state=42)\n",
        "\n",
        "model = DecisionTreeClassifier(max_depth= 5, criterion='entropy')\n",
        "model.fit(X_train, y_train)\n",
        "\n",
        "y_pred = model.predict(X_test)\n",
        "accuracy = accuracy_score(y_test, y_pred)\n",
        "print('Decision tree accuracy:', accuracy)\n",
        "\n",
        "model = MyRandomForest(n_trees=10, max_depth=5, max_features=X.shape[1] // 2)\n",
        "model.fit(X_train, y_train)\n",
        "\n",
        "y_pred = model.predict(X_test)\n",
        "accuracy = accuracy_score(y_test, y_pred)\n",
        "print('Random forest accuracy:', accuracy)"
      ],
      "metadata": {
        "ExecuteTime": {
          "end_time": "2023-12-14T16:00:54.994594800Z",
          "start_time": "2023-12-14T16:00:44.887515100Z"
        },
        "colab": {
          "base_uri": "https://localhost:8080/"
        },
        "id": "cc7553e8fd89b98c",
        "outputId": "e97f848f-4ea6-441b-8ee5-dd73570b4460"
      },
      "id": "cc7553e8fd89b98c"
    }
  ],
  "metadata": {
    "kernelspec": {
      "display_name": "Python 3",
      "language": "python",
      "name": "python3"
    },
    "language_info": {
      "codemirror_mode": {
        "name": "ipython",
        "version": 2
      },
      "file_extension": ".py",
      "mimetype": "text/x-python",
      "name": "python",
      "nbconvert_exporter": "python",
      "pygments_lexer": "ipython2",
      "version": "2.7.6"
    },
    "colab": {
      "provenance": []
    }
  },
  "nbformat": 4,
  "nbformat_minor": 5
}