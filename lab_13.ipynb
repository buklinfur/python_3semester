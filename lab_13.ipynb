{
  "nbformat": 4,
  "nbformat_minor": 0,
  "metadata": {
    "colab": {
      "provenance": [],
      "gpuType": "T4",
      "collapsed_sections": [
        "XDzoc9rXtXAQ"
      ],
      "authorship_tag": "ABX9TyPWDGgh1RAX9RtYfBlGO3cb",
      "include_colab_link": true
    },
    "kernelspec": {
      "name": "python3",
      "display_name": "Python 3"
    },
    "language_info": {
      "name": "python"
    },
    "accelerator": "GPU"
  },
  "cells": [
    {
      "cell_type": "markdown",
      "metadata": {
        "id": "view-in-github",
        "colab_type": "text"
      },
      "source": [
        "<a href=\"https://colab.research.google.com/github/buklinfur/python_3semester/blob/main/lab_13.ipynb\" target=\"_parent\"><img src=\"https://colab.research.google.com/assets/colab-badge.svg\" alt=\"Open In Colab\"/></a>"
      ]
    },
    {
      "cell_type": "markdown",
      "source": [
        "# Семинарские задания\n"
      ],
      "metadata": {
        "id": "XDzoc9rXtXAQ"
      }
    },
    {
      "cell_type": "code",
      "execution_count": null,
      "metadata": {
        "colab": {
          "base_uri": "https://localhost:8080/"
        },
        "id": "WTVz8c0ymUVv",
        "outputId": "fc9798bd-d2ad-467e-fdc9-ed24b6fa82e3"
      },
      "outputs": [
        {
          "output_type": "execute_result",
          "data": {
            "text/plain": [
              "True"
            ]
          },
          "metadata": {},
          "execution_count": 23
        }
      ],
      "source": [
        "import torch\n",
        "import torch.nn as nn\n",
        "import torch.nn.functional as F\n",
        "\n",
        "\n",
        "torch.cuda.is_available()"
      ]
    },
    {
      "cell_type": "markdown",
      "source": [
        "1. Написать SimpleModel на другом уровне абстракции. Использовать model = nn.Sequential() https://pytorch.org/tutorials/beginner/nn_tutorial.html?highlight=mnist"
      ],
      "metadata": {
        "id": "SkbFwzg2ZsYg"
      }
    },
    {
      "cell_type": "code",
      "source": [
        "input_size = 28 * 28\n",
        "\n",
        "simple_model = nn.Sequential(\n",
        "    nn.Flatten(),  # Flattens the 28x28 input images to a 1D tensor of size 784\n",
        "    nn.Linear(28*28, 128),  # First Linear layer\n",
        "    nn.ReLU(),  # Activation function\n",
        "    nn.Linear(128, 10)  # Output layer\n",
        ")\n",
        "\n",
        "print (simple_model)\n",
        "\n",
        "# Usage example\n",
        "x = torch.randn(64, 1, 28, 28)\n",
        "output = simple_model(x)\n",
        "output.shape # The final output is a tensor of shape [batch_size, output_size], where each row corresponds to the logits for the 10 classes"
      ],
      "metadata": {
        "colab": {
          "base_uri": "https://localhost:8080/"
        },
        "id": "tA4Mebhg2tsE",
        "outputId": "c2181f0f-14fb-421e-ad55-80c860cd8994"
      },
      "execution_count": null,
      "outputs": [
        {
          "output_type": "stream",
          "name": "stdout",
          "text": [
            "Sequential(\n",
            "  (0): Flatten(start_dim=1, end_dim=-1)\n",
            "  (1): Linear(in_features=784, out_features=128, bias=True)\n",
            "  (2): ReLU()\n",
            "  (3): Linear(in_features=128, out_features=10, bias=True)\n",
            ")\n"
          ]
        },
        {
          "output_type": "execute_result",
          "data": {
            "text/plain": [
              "torch.Size([64, 10])"
            ]
          },
          "metadata": {},
          "execution_count": 24
        }
      ]
    },
    {
      "cell_type": "markdown",
      "source": [
        "2. С помощью библиотеки torch реализовать модель с прямым проходом, состоящую из 3 полносвязных слоёв с функциями активации: ReLU, tanh, Softmax. Длины векторов на входе 256, на выходе 4, промежуточные: 64 и 16. Использовать модули - nn.Module"
      ],
      "metadata": {
        "id": "uhG8xKJUZ0Tn"
      }
    },
    {
      "cell_type": "code",
      "source": [
        "class CustomModel(nn.Module):\n",
        "    def __init__(self):\n",
        "        super(CustomModel, self).__init__()\n",
        "        self.fc1 = nn.Linear(256, 64)  # Input layer to first hidden layer\n",
        "        self.fc2 = nn.Linear(64, 16)  # First hidden layer to second hidden layer\n",
        "        self.fc3 = nn.Linear(16, 4)   # Second hidden layer to output layer\n",
        "\n",
        "        self.relu = nn.ReLU()\n",
        "        self.tanh = nn.Tanh()\n",
        "        self.softmax = nn.Softmax(dim=1)  # Apply softmax over the last dimension\n",
        "\n",
        "    def forward(self, x):\n",
        "        x = self.fc1(x)\n",
        "        x = self.relu(x)\n",
        "        x = self.fc2(x)\n",
        "        x = self.tanh(x)\n",
        "        x = self.fc3(x)\n",
        "        x = self.softmax(x)\n",
        "        return x\n",
        "\n",
        "model = CustomModel ()\n",
        "\n",
        "# Usage example\n",
        "x = torch.randn(32, 256)  # Batch of 32 input vectors of size 256\n",
        "output = model (x)\n",
        "output.shape"
      ],
      "metadata": {
        "id": "P6OzNowx5Dbh",
        "colab": {
          "base_uri": "https://localhost:8080/"
        },
        "outputId": "1e73e070-8240-4b6f-f162-ede147feec69"
      },
      "execution_count": null,
      "outputs": [
        {
          "output_type": "execute_result",
          "data": {
            "text/plain": [
              "torch.Size([32, 4])"
            ]
          },
          "metadata": {},
          "execution_count": 25
        }
      ]
    },
    {
      "cell_type": "markdown",
      "source": [
        "3. Реализовать модель с прямым проходом, состоящую из 2 свёрток (Conv) с функциями активации ReLU и 2 функций MaxPool. Первый слой переводит из 3 каналов в 8, второй из 8 слоёв в 16. На вход подаётся изображение размера 19х19. (19х19x3 -> 18x18x8 -> 9x9x8 -> 8x8x16 -> 4x4x16). Использовать модули - nn.Module"
      ],
      "metadata": {
        "id": "8BmQd-qgaG60"
      }
    },
    {
      "cell_type": "code",
      "source": [
        "class ConvModel(nn.Module):\n",
        "    def __init__(self):\n",
        "        super(ConvModel, self).__init__()\n",
        "\n",
        "        self.relu = nn.ReLU()\n",
        "        # Define the first convolutional layer\n",
        "        self.conv1 = nn.Conv2d(in_channels=3, out_channels=8, kernel_size=2)  # 19x19x3 -> 18x18x8\n",
        "        self.pool1 = nn.MaxPool2d(kernel_size=2)  # 18x18x8 -> 9x9x8\n",
        "        # Define the second convolutional layer\n",
        "        self.conv2 = nn.Conv2d(in_channels=8, out_channels=16, kernel_size=2)  # 9x9x8 -> 8x8x16\n",
        "        self.pool2 = nn.MaxPool2d(kernel_size=2)  # 8x8x16 -> 4x4x16\n",
        "\n",
        "    def forward(self, x):\n",
        "        # First convolutional layer\n",
        "        x = self.conv1(x)\n",
        "        x = self.relu(x)\n",
        "        x = self.pool1(x)\n",
        "\n",
        "        # Second convolutional layer\n",
        "        x = self.conv2(x)\n",
        "        x = self.relu(x)\n",
        "        x = self.pool2(x)\n",
        "\n",
        "        return x\n",
        "\n",
        "model = ConvModel()\n",
        "print (model)\n",
        "\n",
        "# Usage example\n",
        "x = torch.randn(1, 3, 19, 19)  # Batch of 1, 3 channels, 19x19 pixels\n",
        "output = model(x)\n",
        "output.shape # Should be [1, 16, 4, 4]"
      ],
      "metadata": {
        "colab": {
          "base_uri": "https://localhost:8080/"
        },
        "id": "q_hiUxwkaM3G",
        "outputId": "742ff67e-25ea-4141-9623-0a21cd5d7adb"
      },
      "execution_count": null,
      "outputs": [
        {
          "output_type": "stream",
          "name": "stdout",
          "text": [
            "ConvModel(\n",
            "  (relu): ReLU()\n",
            "  (conv1): Conv2d(3, 8, kernel_size=(2, 2), stride=(1, 1))\n",
            "  (pool1): MaxPool2d(kernel_size=2, stride=2, padding=0, dilation=1, ceil_mode=False)\n",
            "  (conv2): Conv2d(8, 16, kernel_size=(2, 2), stride=(1, 1))\n",
            "  (pool2): MaxPool2d(kernel_size=2, stride=2, padding=0, dilation=1, ceil_mode=False)\n",
            ")\n"
          ]
        },
        {
          "output_type": "execute_result",
          "data": {
            "text/plain": [
              "torch.Size([1, 16, 4, 4])"
            ]
          },
          "metadata": {},
          "execution_count": 26
        }
      ]
    },
    {
      "cell_type": "markdown",
      "source": [
        "4. Объединить сети из п.2 и п.1. На выход изображение размера 19х19, на выходе вектор из 4 элементов"
      ],
      "metadata": {
        "id": "s-pr7SdjaNUo"
      }
    },
    {
      "cell_type": "code",
      "source": [
        "class CombinedModel(nn.Module):\n",
        "    def __init__(self):\n",
        "        super(CombinedModel, self).__init__()\n",
        "\n",
        "        # From convolutional\n",
        "        self.conv_layers = nn.Sequential(\n",
        "            nn.Conv2d(in_channels=3, out_channels=8, kernel_size=2),  # 19x19x3 -> 18x18x8\n",
        "            nn.ReLU(),\n",
        "            nn.MaxPool2d(kernel_size=2),  # 18x18x8 -> 9x9x8\n",
        "            nn.Conv2d(in_channels=8, out_channels=16, kernel_size=2),  # 9x9x8 -> 8x8x16\n",
        "            nn.ReLU(),\n",
        "            nn.MaxPool2d(kernel_size=2)  # 8x8x16 -> 4x4x16\n",
        "        )\n",
        "\n",
        "        # From fully-connected\n",
        "        self.fc_layers = nn.Sequential(\n",
        "            nn.Linear(16 * 4 * 4, 64),\n",
        "            nn.ReLU(),\n",
        "            nn.Linear(64, 16),\n",
        "            nn.Tanh(),\n",
        "            nn.Linear(16, 4),\n",
        "            nn.Softmax(dim=1)\n",
        "        )\n",
        "\n",
        "    def forward(self, x):\n",
        "        x = self.conv_layers(x)\n",
        "        x = x.view(x.size(0), -1)  # Flatten to [batch_size, 16*4*4]\n",
        "        x = self.fc_layers(x)\n",
        "        return x\n",
        "\n",
        "model = CombinedModel()\n",
        "print (model)\n",
        "\n",
        "# Usage example\n",
        "x = torch.randn(1, 3, 19, 19)  # Batch of 1, 3 channels, 19x19 pixels\n",
        "output = model(x)\n",
        "output.shape  # Should be [1, 4]"
      ],
      "metadata": {
        "colab": {
          "base_uri": "https://localhost:8080/"
        },
        "id": "Y-sut4mwafdf",
        "outputId": "7672714e-91a1-47b2-9b48-eaf8f2f86621"
      },
      "execution_count": null,
      "outputs": [
        {
          "output_type": "stream",
          "name": "stdout",
          "text": [
            "CombinedModel(\n",
            "  (conv_layers): Sequential(\n",
            "    (0): Conv2d(3, 8, kernel_size=(2, 2), stride=(1, 1))\n",
            "    (1): ReLU()\n",
            "    (2): MaxPool2d(kernel_size=2, stride=2, padding=0, dilation=1, ceil_mode=False)\n",
            "    (3): Conv2d(8, 16, kernel_size=(2, 2), stride=(1, 1))\n",
            "    (4): ReLU()\n",
            "    (5): MaxPool2d(kernel_size=2, stride=2, padding=0, dilation=1, ceil_mode=False)\n",
            "  )\n",
            "  (fc_layers): Sequential(\n",
            "    (0): Linear(in_features=256, out_features=64, bias=True)\n",
            "    (1): ReLU()\n",
            "    (2): Linear(in_features=64, out_features=16, bias=True)\n",
            "    (3): Tanh()\n",
            "    (4): Linear(in_features=16, out_features=4, bias=True)\n",
            "    (5): Softmax(dim=1)\n",
            "  )\n",
            ")\n"
          ]
        },
        {
          "output_type": "execute_result",
          "data": {
            "text/plain": [
              "torch.Size([1, 4])"
            ]
          },
          "metadata": {},
          "execution_count": 27
        }
      ]
    },
    {
      "cell_type": "markdown",
      "source": [
        "# Лабораторная работа 13."
      ],
      "metadata": {
        "id": "wrEQD7Hlaf2c"
      }
    },
    {
      "cell_type": "markdown",
      "source": [
        "1. С помощью библиотеки torch создать модель с прямым проходом, состоящую из 3 слоёв* с функциями активации: ReLu, ReLu, Softmax.\n",
        "* Два первых слоя могут быть полносвязные или свёрточные на ваш выбор. Последний слой - это FC слой с 10 нейронами."
      ],
      "metadata": {
        "id": "_xW9FliNvV3n"
      }
    },
    {
      "cell_type": "code",
      "source": [
        "class Model(nn.Module):\n",
        "    def __init__(self, use_convolutional=True):\n",
        "        super(Model, self).__init__()\n",
        "\n",
        "        self.use_convolutional = use_convolutional\n",
        "\n",
        "        if use_convolutional:\n",
        "            self.conv1 = nn.Conv2d(1, 16, kernel_size=3)  # MNIST has 1 channel, 28x28 input -> 26x26\n",
        "            self.conv2 = nn.Conv2d(16, 32, kernel_size=3)  # 26x26 -> 24x24\n",
        "            self.fc = nn.Linear(32 * 24 * 24, 10)  # Flattened output to 10 neurons\n",
        "        else:\n",
        "\n",
        "            self.fc1 = nn.Linear(28 * 28, 128)  # Flatten 28x28 input to 128\n",
        "            self.fc2 = nn.Linear(128, 64)  # 128 -> 64\n",
        "            self.fc3 = nn.Linear(64, 10)  # 64 -> 10\n",
        "\n",
        "        # Activation functions\n",
        "        self.relu = nn.ReLU()\n",
        "        self.softmax = nn.Softmax(dim=1)\n",
        "\n",
        "    def forward(self, x):\n",
        "        if self.use_convolutional:\n",
        "            x = self.conv1(x)\n",
        "            x = self.relu(x)\n",
        "            x = self.conv2(x)\n",
        "            x = self.relu(x)\n",
        "            x = x.view(x.size(0), -1)  # Flatten for fully connected layer\n",
        "            x = self.fc(x)\n",
        "        else:\n",
        "            x = x.view(x.size(0), -1)  # Flatten input\n",
        "            x = self.fc1(x)\n",
        "            x = self.relu(x)\n",
        "            x = self.fc2(x)\n",
        "            x = self.relu(x)\n",
        "            x = self.fc3(x)\n",
        "\n",
        "        x = self.softmax(x)\n",
        "        return x\n",
        "\n",
        "# Usage example\n",
        "conv_model = Model(use_convolutional=True)\n",
        "print (conv_model)\n",
        "fc_model = Model(use_convolutional=False)\n",
        "print (fc_model)"
      ],
      "metadata": {
        "colab": {
          "base_uri": "https://localhost:8080/"
        },
        "id": "c93L503HvkU1",
        "outputId": "6a381df7-2938-4e81-ff4b-332a0016232b"
      },
      "execution_count": 38,
      "outputs": [
        {
          "output_type": "stream",
          "name": "stdout",
          "text": [
            "Model(\n",
            "  (conv1): Conv2d(1, 16, kernel_size=(3, 3), stride=(1, 1))\n",
            "  (conv2): Conv2d(16, 32, kernel_size=(3, 3), stride=(1, 1))\n",
            "  (fc): Linear(in_features=18432, out_features=10, bias=True)\n",
            "  (relu): ReLU()\n",
            "  (softmax): Softmax(dim=1)\n",
            ")\n",
            "Model(\n",
            "  (fc1): Linear(in_features=784, out_features=128, bias=True)\n",
            "  (fc2): Linear(in_features=128, out_features=64, bias=True)\n",
            "  (fc3): Linear(in_features=64, out_features=10, bias=True)\n",
            "  (relu): ReLU()\n",
            "  (softmax): Softmax(dim=1)\n",
            ")\n"
          ]
        }
      ]
    },
    {
      "cell_type": "markdown",
      "source": [
        "2. Обучить нейросеть распознавать рукописные цифры на датасете MNIST (28х28 px)."
      ],
      "metadata": {
        "id": "v6Ro5RRsvgoX"
      }
    },
    {
      "cell_type": "code",
      "source": [
        "import torchvision\n",
        "import torchvision.transforms as transforms\n",
        "from torch.utils.data import DataLoader\n",
        "\n",
        "transform = transforms.Compose([\n",
        "    transforms.ToTensor(),\n",
        "    transforms.Normalize((0.5,), (0.5,))  # Normalize to [-1, 1]\n",
        "])\n",
        "\n",
        "train_dataset = torchvision.datasets.MNIST(root='./data', train=True, transform=transform, download=True)\n",
        "test_dataset = torchvision.datasets.MNIST(root='./data', train=False, transform=transform, download=True)\n",
        "\n",
        "train = DataLoader(train_dataset, batch_size=64, shuffle=True)\n",
        "test = DataLoader(test_dataset, batch_size=64, shuffle=False)\n"
      ],
      "metadata": {
        "id": "6MXKf4_ea0hh"
      },
      "execution_count": 39,
      "outputs": []
    },
    {
      "cell_type": "code",
      "source": [
        "import torch.optim as optim\n",
        "\n",
        "def train_model(model, train_loader, num_epochs=5, learning_rate=0.001):\n",
        "    criterion = nn.CrossEntropyLoss()\n",
        "    optimizer = optim.Adam(model.parameters(), lr=learning_rate)\n",
        "\n",
        "    for epoch in range(num_epochs):\n",
        "        model.train()\n",
        "        running_loss = 0.0\n",
        "        for images, labels in train_loader:\n",
        "            images, labels = images.to(device), labels.to(device)\n",
        "\n",
        "            optimizer.zero_grad()\n",
        "\n",
        "            outputs = model(images)\n",
        "            loss = criterion(outputs, labels)\n",
        "\n",
        "            loss.backward()\n",
        "            optimizer.step()\n",
        "\n",
        "            running_loss += loss.item()\n",
        "\n",
        "        print(f\"Epoch [{epoch+1}/{num_epochs}], Loss: {running_loss / len(train_loader):.4f}\")\n",
        "\n",
        "device = torch.device('cuda' if torch.cuda.is_available() else 'cpu')\n",
        "model = Model(use_convolutional=True).to(device)\n",
        "\n",
        "train_model(model, train, num_epochs=5)"
      ],
      "metadata": {
        "colab": {
          "base_uri": "https://localhost:8080/"
        },
        "id": "78PipBEN9QZz",
        "outputId": "bf68de0c-b3d1-4be5-c537-b599b38b4e8f"
      },
      "execution_count": 40,
      "outputs": [
        {
          "output_type": "stream",
          "name": "stdout",
          "text": [
            "Epoch [1/5], Loss: 1.5440\n",
            "Epoch [2/5], Loss: 1.4869\n",
            "Epoch [3/5], Loss: 1.4810\n",
            "Epoch [4/5], Loss: 1.4780\n",
            "Epoch [5/5], Loss: 1.4754\n"
          ]
        }
      ]
    },
    {
      "cell_type": "code",
      "source": [
        "def evaluate_model(model, test_loader):\n",
        "    model.eval()\n",
        "    correct = 0\n",
        "    total = 0\n",
        "\n",
        "    with torch.no_grad():\n",
        "        for images, labels in test_loader:\n",
        "            images, labels = images.to(device), labels.to(device)\n",
        "            outputs = model(images)\n",
        "            _, predicted = torch.max(outputs, 1)  # Get class predictions\n",
        "            total += labels.size(0)\n",
        "            correct += (predicted == labels).sum().item()\n",
        "\n",
        "    accuracy = 100 * correct / total\n",
        "    print(f\"Test Accuracy: {accuracy:.2f}%\")\n",
        "\n",
        "# Evaluate the trained model\n",
        "evaluate_model(model, test)\n"
      ],
      "metadata": {
        "colab": {
          "base_uri": "https://localhost:8080/"
        },
        "id": "He9NYMW796il",
        "outputId": "4454a5b8-2acc-409b-c236-b5fcb3555e3d"
      },
      "execution_count": 41,
      "outputs": [
        {
          "output_type": "stream",
          "name": "stdout",
          "text": [
            "Test Accuracy: 98.30%\n"
          ]
        }
      ]
    }
  ]
}